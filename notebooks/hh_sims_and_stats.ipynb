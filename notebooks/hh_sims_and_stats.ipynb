{
 "cells": [
  {
   "cell_type": "code",
   "execution_count": null,
   "metadata": {},
   "outputs": [],
   "source": [
    "import matplotlib.pyplot as plt\n",
    "import numpy as np\n",
    "import torch\n",
    "import torch.optim as optim\n",
    "from corner import corner\n",
    "from matplotlib import pyplot as plt\n",
    "\n",
    "from sourcerer.fit_surrogate import (\n",
    "    create_train_val_dataloaders,\n",
    "    fit_conditional_normalizing_flow,\n",
    ")\n",
    "from sourcerer.hh_utils import HHSurro, PRIOR_MAX, PRIOR_MIN, DEF_RESTRICTED\n",
    "from sourcerer.utils import scale_tensor\n",
    "\n"
   ]
  },
  {
   "cell_type": "code",
   "execution_count": null,
   "metadata": {},
   "outputs": [],
   "source": [
    "# Load data assuming the order here is sufficiently random\n",
    "sim_data = np.load(\"TODO_path_to_simulations_array.npz\")\n",
    "theta = sim_data[\"theta\"]\n",
    "stats = sim_data[\"stats\"]\n",
    "\n",
    "# Remove undefined simulations (either only the 5 out of 15mil that completelly fail, or the ones without undefined stats)\n",
    "keeping = (~np.isnan(np.mean(stats, axis=1))) & (~np.isinf(np.mean(stats, axis=1)))\n",
    "\n",
    "moment_keeping = (~np.isnan(stats[:, 22])) & (~np.isinf(stats[:, 22]))  # 22 is a moment\n",
    "print(theta[~moment_keeping, :])  # 5 sims out of 15mil completely fail\n",
    "\n",
    "stats = stats[moment_keeping, :]  # delete Nan simulations that completely fail\n",
    "theta = theta[moment_keeping, :]  # delete Nan simulations that completely fail\n",
    "\n",
    "stats = stats[:, DEF_RESTRICTED]\n",
    "# reverse engineer unnecessarily undefined counts\n",
    "stats[:, :1][np.isnan(stats[:, :1])] = np.log(3)\n",
    "\n",
    "number_of_sims = 1_000_000\n",
    "stats = stats[:number_of_sims, :]\n",
    "theta = theta[:number_of_sims, :]\n",
    "keeping = keeping[:number_of_sims]\n"
   ]
  },
  {
   "cell_type": "code",
   "execution_count": null,
   "metadata": {},
   "outputs": [],
   "source": [
    "source_dim = 13\n",
    "# standardize source to range from -1 to 1\n",
    "source = scale_tensor(\n",
    "    torch.from_numpy(np.float32(theta)),\n",
    "    PRIOR_MIN,\n",
    "    PRIOR_MAX,\n",
    "    -torch.ones(source_dim),\n",
    "    torch.ones(source_dim),\n",
    ")\n",
    "print(source.shape)\n"
   ]
  },
  {
   "cell_type": "code",
   "execution_count": null,
   "metadata": {},
   "outputs": [],
   "source": [
    "# move res to torch and standardize\n",
    "stats_torch = torch.from_numpy(np.float32(stats))\n",
    "stats_mean = torch.mean(stats_torch, dim=0)\n",
    "stats_std = torch.std(stats_torch, dim=0)\n",
    "print(stats_mean)\n",
    "print(stats_std)\n",
    "stats_torch = (stats_torch - stats_mean) / stats_std\n",
    "\n"
   ]
  },
  {
   "cell_type": "code",
   "execution_count": null,
   "metadata": {},
   "outputs": [],
   "source": [
    "for i in range(stats_torch.shape[1]):\n",
    "    plt.hist(stats_torch.numpy()[:, i], bins=100)\n",
    "    plt.axvline(\n",
    "        np.percentile(stats_torch.numpy()[:, i], 10),\n",
    "        color=\"red\",\n",
    "        linestyle=\"--\",\n",
    "        linewidth=1,\n",
    "    )\n",
    "    plt.axvline(\n",
    "        np.percentile(stats_torch.numpy()[:, i], 90),\n",
    "        color=\"red\",\n",
    "        linestyle=\"--\",\n",
    "        linewidth=1,\n",
    "    )\n",
    "    plt.show()\n",
    "\n"
   ]
  },
  {
   "cell_type": "code",
   "execution_count": null,
   "metadata": {},
   "outputs": [],
   "source": [
    "# Define surrogate model\n",
    "ydim = 5\n",
    "surrogate = HHSurro(hidden_layer_dim=256, xdim=13, ydim=ydim).to(\"cuda\")\n",
    "optimizer = optim.Adam(surrogate.parameters(), lr=5e-4, weight_decay=1e-5)\n"
   ]
  },
  {
   "cell_type": "code",
   "execution_count": null,
   "metadata": {},
   "outputs": [],
   "source": [
    "training_dataset, validation_dataset = create_train_val_dataloaders(\n",
    "    y=stats_torch.to(\"cuda\"),\n",
    "    x=source.to(\"cuda\"),\n",
    "    batch_size=4096,\n",
    "    validation_size=0.2,\n",
    "    random_state=0,\n",
    ")\n"
   ]
  },
  {
   "cell_type": "code",
   "execution_count": null,
   "metadata": {},
   "outputs": [],
   "source": [
    "# Train surrogate model\n",
    "training_loss, validation_loss = fit_conditional_normalizing_flow(\n",
    "    network=surrogate,\n",
    "    optimizer=optimizer,\n",
    "    training_dataset=training_dataset,\n",
    "    validation_dataset=validation_dataset,\n",
    "    nb_epochs=500,\n",
    "    # early_stopping_patience=20,\n",
    "    early_stopping_patience=10000,\n",
    "    print_every=1,\n",
    ")\n"
   ]
  },
  {
   "cell_type": "code",
   "execution_count": null,
   "metadata": {},
   "outputs": [],
   "source": [
    "plt.plot(training_loss)\n",
    "plt.plot(validation_loss)\n",
    "plt.show()\n"
   ]
  },
  {
   "cell_type": "code",
   "execution_count": null,
   "metadata": {},
   "outputs": [],
   "source": [
    "surrogate.eval()\n",
    "with torch.no_grad():\n",
    "    val_loss = 0.0\n",
    "    for batch_Y, batch_X in validation_dataset:\n",
    "        output = surrogate.sample(context=batch_X.to(\"cuda\"))  # forward pass\n",
    "        loss = surrogate.forward_kld(batch_Y.to(\"cuda\"), batch_X.to(\"cuda\"))\n",
    "        val_loss += loss.item()\n",
    "\n",
    "print(val_loss / len(validation_dataset))\n"
   ]
  },
  {
   "cell_type": "code",
   "execution_count": null,
   "metadata": {},
   "outputs": [],
   "source": [
    "rand_id = np.random.randint(0, batch_Y.shape[0])\n",
    "print(batch_Y[rand_id, :])\n",
    "print(output[rand_id, :])\n",
    "\n",
    "print(\"aggregate\")\n",
    "print(torch.mean(torch.abs(batch_Y - output), dim=0))\n",
    "print(torch.mean(batch_Y - output, dim=0))\n",
    "print(torch.std(torch.abs(batch_Y - output), dim=0))\n",
    "\n"
   ]
  },
  {
   "cell_type": "code",
   "execution_count": null,
   "metadata": {},
   "outputs": [],
   "source": [
    "# Plot surrogate outputs vs. real data.\n",
    "fig1 = corner(\n",
    "    batch_Y.cpu().numpy(),\n",
    "    hist_kwargs={\"density\": True},\n",
    "    plot_density=False,\n",
    "    # plot_contours=False,\n",
    ")\n",
    "corner(\n",
    "    output.cpu().numpy(),\n",
    "    hist_kwargs={\"density\": True},\n",
    "    fig=fig1,\n",
    "    color=\"red\",\n",
    "    plot_density=False,\n",
    "    # plot_contours=False,\n",
    ")\n",
    "\n",
    "pass\n"
   ]
  },
  {
   "cell_type": "code",
   "execution_count": null,
   "metadata": {},
   "outputs": [],
   "source": [
    "torch.save(\n",
    "    surrogate.state_dict(),\n",
    "    f\"TODO_path_save_surrogate.pt\",\n",
    ")\n"
   ]
  }
 ],
 "metadata": {
  "language_info": {
   "codemirror_mode": {
    "name": "ipython",
    "version": 3
   },
   "file_extension": ".py",
   "mimetype": "text/x-python",
   "name": "python",
   "nbconvert_exporter": "python",
   "pygments_lexer": "ipython3",
   "version": 3
  }
 },
 "nbformat": 4,
 "nbformat_minor": 2
}
